{
 "cells": [
  {
   "cell_type": "code",
   "execution_count": 1,
   "id": "8ce03b59",
   "metadata": {},
   "outputs": [],
   "source": [
    "import cv2\n",
    "import numpy as np"
   ]
  },
  {
   "cell_type": "code",
   "execution_count": 2,
   "id": "ac446532",
   "metadata": {},
   "outputs": [],
   "source": [
    "Image=  np.zeros((600,600,3))"
   ]
  },
  {
   "cell_type": "code",
   "execution_count": 3,
   "id": "46392082",
   "metadata": {},
   "outputs": [
    {
     "data": {
      "text/plain": [
       "(600, 600, 3)"
      ]
     },
     "execution_count": 3,
     "metadata": {},
     "output_type": "execute_result"
    }
   ],
   "source": [
    "Image.shape"
   ]
  },
  {
   "cell_type": "code",
   "execution_count": 4,
   "id": "7c836fb7",
   "metadata": {},
   "outputs": [],
   "source": [
    "cv2.circle(Image,center = (250,75),radius = 75,color = (0,255,0),thickness = -1)\n",
    "\n",
    "Image[150:170,240:260] = [255,0,0]\n",
    "\n",
    "Image[170:300,150:350] = [255,255,0]\n",
    "\n",
    "Image[170:180,350:450] = [255,0,0]\n",
    "Image[170:180,50:150] =  [255,0,0]\n",
    "\n",
    "Image[300:450,295:305] = [209,163,164]\n",
    "Image[300:450,195:205] = [209,163,164]\n",
    "\n",
    "\n",
    "\n"
   ]
  },
  {
   "cell_type": "code",
   "execution_count": 5,
   "id": "cd84eb46",
   "metadata": {},
   "outputs": [],
   "source": [
    "cv2.imshow(\"Human\",Image)\n",
    "cv2.waitKey(0)\n",
    "cv2.destroyAllWindows()"
   ]
  },
  {
   "cell_type": "code",
   "execution_count": null,
   "id": "e951cb2c",
   "metadata": {},
   "outputs": [],
   "source": []
  }
 ],
 "metadata": {
  "kernelspec": {
   "display_name": "Python 3",
   "language": "python",
   "name": "python3"
  },
  "language_info": {
   "codemirror_mode": {
    "name": "ipython",
    "version": 3
   },
   "file_extension": ".py",
   "mimetype": "text/x-python",
   "name": "python",
   "nbconvert_exporter": "python",
   "pygments_lexer": "ipython3",
   "version": "3.8.8"
  }
 },
 "nbformat": 4,
 "nbformat_minor": 5
}
