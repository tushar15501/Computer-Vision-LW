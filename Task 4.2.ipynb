{
 "cells": [
  {
   "cell_type": "code",
   "execution_count": 1,
   "id": "5ea4bdac",
   "metadata": {},
   "outputs": [],
   "source": [
    "import cv2\n",
    "import numpy as np"
   ]
  },
  {
   "cell_type": "code",
   "execution_count": null,
   "id": "ab992434",
   "metadata": {},
   "outputs": [],
   "source": [
    "lion=cv2.imread(\"lion.jpeg\")\n",
    "cv2.imshow('lion.jpeg',lion)\n",
    "cv2.waitKey()\n",
    "cv2.destroyAllWindows()\n",
    "\n",
    "lion=cv2.imread('lion.jpeg')\n",
    "crop_lion=lion[70:200,70:200]\n",
    "cv2.imshow('cropped lion',crop_lion)\n",
    "cv2.waitKey()\n",
    "cv2.destroyAllWindows()\n",
    "\n",
    "bear=cv2.imread(\"bear.jpeg\")\n",
    "cv2.imshow('bear.jpeg',bear)\n",
    "cv2.waitKey()\n",
    "cv2.destroyAllWindows()\n",
    "\n",
    "bear=cv2.imread('bear.jpeg')\n",
    "crop_bear=bear[30:160,40:170]\n",
    "cv2.imshow('cropped bear',crop_bear)\n",
    "cv2.waitKey()\n",
    "cv2.destroyAllWindows()\n",
    "\n",
    "bear=cv2.imread('bear.jpeg')\n",
    "bear[30:160,40:170]=crop_lion\n",
    "cv2.imshow('bear.jpeg',bear)\n",
    "cv2.waitKey()\n",
    "cv2.destroyAllWindows()\n",
    "\n",
    "\n",
    "lion=cv2.imread('lion.jpeg')\n",
    "lion[70:200,70:200]=cv2.resize(crop_bear, (130, 130))\n",
    "cv2.imshow('lion.jpeg',lion)\n",
    "cv2.waitKey()\n",
    "cv2.destroyAllWindows()"
   ]
  }
 ],
 "metadata": {
  "kernelspec": {
   "display_name": "Python 3",
   "language": "python",
   "name": "python3"
  },
  "language_info": {
   "codemirror_mode": {
    "name": "ipython",
    "version": 3
   },
   "file_extension": ".py",
   "mimetype": "text/x-python",
   "name": "python",
   "nbconvert_exporter": "python",
   "pygments_lexer": "ipython3",
   "version": "3.8.8"
  }
 },
 "nbformat": 4,
 "nbformat_minor": 5
}
