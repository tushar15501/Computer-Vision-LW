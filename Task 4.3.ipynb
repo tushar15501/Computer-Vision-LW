{
 "cells": [
  {
   "cell_type": "code",
   "execution_count": 1,
   "id": "b7261fec",
   "metadata": {},
   "outputs": [],
   "source": [
    "import cv2\n",
    "import numpy as np"
   ]
  },
  {
   "cell_type": "code",
   "execution_count": 2,
   "id": "5282d830",
   "metadata": {},
   "outputs": [],
   "source": [
    "Mars_oil = cv2.imread('mars_1.jpg')"
   ]
  },
  {
   "cell_type": "code",
   "execution_count": 3,
   "id": "31312c6a",
   "metadata": {},
   "outputs": [
    {
     "data": {
      "text/plain": [
       "(800, 1540, 3)"
      ]
     },
     "execution_count": 3,
     "metadata": {},
     "output_type": "execute_result"
    }
   ],
   "source": [
    "Mars_oil.shape"
   ]
  },
  {
   "cell_type": "code",
   "execution_count": 4,
   "id": "e9ee0097",
   "metadata": {},
   "outputs": [],
   "source": [
    "Mars_2= cv2.imread('mars_2.jpg')"
   ]
  },
  {
   "cell_type": "code",
   "execution_count": 5,
   "id": "fba67223",
   "metadata": {},
   "outputs": [
    {
     "data": {
      "text/plain": [
       "(1013, 1200, 3)"
      ]
     },
     "execution_count": 5,
     "metadata": {},
     "output_type": "execute_result"
    }
   ],
   "source": [
    "Mars_2.shape"
   ]
  },
  {
   "cell_type": "code",
   "execution_count": 6,
   "id": "7461a97d",
   "metadata": {},
   "outputs": [],
   "source": [
    "Crop_mars_oil = Mars_oil[:700,:700]\n",
    "cv2.imshow(\"Cropped_img 1\",Crop_mars_oil)\n",
    "cv2.waitKey(0)\n",
    "cv2.destroyAllWindows()"
   ]
  },
  {
   "cell_type": "code",
   "execution_count": 7,
   "id": "994a7fea",
   "metadata": {},
   "outputs": [
    {
     "data": {
      "text/plain": [
       "(700, 700, 3)"
      ]
     },
     "execution_count": 7,
     "metadata": {},
     "output_type": "execute_result"
    }
   ],
   "source": [
    "Crop_mars_oil.shape"
   ]
  },
  {
   "cell_type": "code",
   "execution_count": 8,
   "id": "73103358",
   "metadata": {},
   "outputs": [],
   "source": [
    "Crop_mars_2 = Mars_2[:700,:700]\n",
    "cv2.imshow(\"Cropped_img 2\",Crop_mars_2)\n",
    "cv2.waitKey(0)\n",
    "cv2.destroyAllWindows()"
   ]
  },
  {
   "cell_type": "code",
   "execution_count": 9,
   "id": "ebec5b22",
   "metadata": {},
   "outputs": [
    {
     "data": {
      "text/plain": [
       "(700, 700, 3)"
      ]
     },
     "execution_count": 9,
     "metadata": {},
     "output_type": "execute_result"
    }
   ],
   "source": [
    "Crop_mars_2.shape"
   ]
  },
  {
   "cell_type": "code",
   "execution_count": 10,
   "id": "2ad33293",
   "metadata": {},
   "outputs": [],
   "source": [
    "import numpy as np"
   ]
  },
  {
   "cell_type": "code",
   "execution_count": 11,
   "id": "9527e562",
   "metadata": {},
   "outputs": [],
   "source": [
    "Mars = np.hstack((Crop_mars_oil,Crop_mars_2))"
   ]
  },
  {
   "cell_type": "code",
   "execution_count": 12,
   "id": "31dbca00",
   "metadata": {},
   "outputs": [],
   "source": [
    "cv2.imshow(\" Horizontal Collage of Mars Images\",Mars)\n",
    "cv2.waitKey(0)\n",
    "cv2.destroyAllWindows()"
   ]
  },
  {
   "cell_type": "code",
   "execution_count": null,
   "id": "86e64899",
   "metadata": {},
   "outputs": [],
   "source": []
  }
 ],
 "metadata": {
  "kernelspec": {
   "display_name": "Python 3",
   "language": "python",
   "name": "python3"
  },
  "language_info": {
   "codemirror_mode": {
    "name": "ipython",
    "version": 3
   },
   "file_extension": ".py",
   "mimetype": "text/x-python",
   "name": "python",
   "nbconvert_exporter": "python",
   "pygments_lexer": "ipython3",
   "version": "3.8.8"
  }
 },
 "nbformat": 4,
 "nbformat_minor": 5
}
